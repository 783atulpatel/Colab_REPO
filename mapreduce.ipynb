{
  "cells": [
    {
      "cell_type": "markdown",
      "metadata": {
        "id": "view-in-github",
        "colab_type": "text"
      },
      "source": [
        "<a href=\"https://colab.research.google.com/github/783atulpatel/Colab_REPO/blob/main/mapreduce.ipynb\" target=\"_parent\"><img src=\"https://colab.research.google.com/assets/colab-badge.svg\" alt=\"Open In Colab\"/></a>"
      ]
    },
    {
      "cell_type": "markdown",
      "source": [
        "#**MapReduce (Basic Job Execution)**\n",
        "###What We will Learn in this :\n",
        "####how to run a MapReduce job, including creating and executing jobs on HDFS.\n",
        "\n",
        "\n"
      ],
      "metadata": {
        "id": "F32Fv9QJ_a7F"
      }
    },
    {
      "cell_type": "markdown",
      "source": [
        "# Install Java Development Kit (JDK"
      ],
      "metadata": {
        "id": "v5wPDlyX_n51"
      }
    },
    {
      "cell_type": "code",
      "source": [
        "\n",
        "!apt-get install openjdk-8-jdk-headless -qq > /dev/null"
      ],
      "metadata": {
        "id": "U2SzBBWm1VdL"
      },
      "execution_count": 2,
      "outputs": []
    },
    {
      "cell_type": "markdown",
      "source": [
        "# setup Hadoop as told in previous class"
      ],
      "metadata": {
        "id": "Wphs8Ttl_rpm"
      }
    },
    {
      "cell_type": "code",
      "source": [
        "!tar -xzf /content/drive/MyDrive/hadoop-setup/hadoop-3.3.6.tar.gz -C /content/"
      ],
      "metadata": {
        "id": "RhHaAeN411UD"
      },
      "execution_count": 4,
      "outputs": []
    },
    {
      "cell_type": "markdown",
      "source": [
        "# setting up environment"
      ],
      "metadata": {
        "id": "CvUAcWoB_xUO"
      }
    },
    {
      "cell_type": "code",
      "source": [
        "# Set Hadoop environment variables\n",
        "import os\n",
        "os.environ[\"JAVA_HOME\"] = \"/usr/lib/jvm/java-8-openjdk-amd64\"\n",
        "os.environ[\"HADOOP_HOME\"] = \"/content/hadoop-3.3.6\"\n",
        "os.environ[\"PATH\"] = os.environ[\"PATH\"] + \":\" + os.environ[\"HADOOP_HOME\"] + \"/bin\" + \":\" + os.environ[\"HADOOP_HOME\"] + \"/sbin\"\n",
        "\n",
        "# Configure Hadoop (replace with your desired configuration)\n",
        "!echo \"export JAVA_HOME=/usr/lib/jvm/java-8-openjdk-amd64\" >> ~/.bashrc\n",
        "!echo \"export HADOOP_HOME=/content/hadoop-3.3.6\" >> ~/.bashrc\n",
        "!echo \"export PATH=$PATH:$HADOOP_HOME/bin:$HADOOP_HOME/sbin\" >> ~/.bashrc\n",
        "\n",
        "# Source the bashrc file to apply the changes\n",
        "!source ~/.bashrc\n",
        "\n",
        "# Verify Hadoop installation\n",
        "!hadoop version"
      ],
      "metadata": {
        "colab": {
          "base_uri": "https://localhost:8080/"
        },
        "id": "vYLsx4m81YsD",
        "outputId": "b3de63fa-c459-4a27-c6e5-71bf09949167"
      },
      "execution_count": 5,
      "outputs": [
        {
          "output_type": "stream",
          "name": "stdout",
          "text": [
            "Hadoop 3.3.6\n",
            "Source code repository https://github.com/apache/hadoop.git -r 1be78238728da9266a4f88195058f08fd012bf9c\n",
            "Compiled by ubuntu on 2023-06-18T08:22Z\n",
            "Compiled on platform linux-x86_64\n",
            "Compiled with protoc 3.7.1\n",
            "From source with checksum 5652179ad55f76cb287d9c633bb53bbd\n",
            "This command was run using /content/hadoop-3.3.6/share/hadoop/common/hadoop-common-3.3.6.jar\n"
          ]
        }
      ]
    },
    {
      "cell_type": "markdown",
      "source": [
        "# verfying the working of haddop"
      ],
      "metadata": {
        "id": "p_6-4q99_0Zm"
      }
    },
    {
      "cell_type": "code",
      "source": [
        "!jps"
      ],
      "metadata": {
        "colab": {
          "base_uri": "https://localhost:8080/"
        },
        "id": "rKAjIu7K1ye6",
        "outputId": "e491cecf-4410-4d2d-b888-0c0633340650"
      },
      "execution_count": 6,
      "outputs": [
        {
          "output_type": "stream",
          "name": "stdout",
          "text": [
            "8597 Jps\n"
          ]
        }
      ]
    },
    {
      "cell_type": "markdown",
      "source": [],
      "metadata": {
        "id": "FFeyWKd0CL67"
      }
    },
    {
      "cell_type": "markdown",
      "source": [
        "# so initially will create an input.txt file"
      ],
      "metadata": {
        "id": "XU9Ob-RHCXLa"
      }
    },
    {
      "cell_type": "code",
      "source": [
        "\n",
        "with open('/content/new_folder/input.txt', 'w') as f:\n",
        "    f.write(\"Hello HadoopHadoop MapReduce is great for big dataBig data can be processed using Hadoop MapReduce is a programming model\")"
      ],
      "metadata": {
        "id": "owqSVNF7_FND"
      },
      "execution_count": 22,
      "outputs": []
    },
    {
      "cell_type": "code",
      "source": [
        "!hadoop jar /content/hadoop-3.3.6/share/hadoop/mapreduce/hadoop-mapreduce-examples-3.3.6.jar wordcount /content/new_folder/input.txt /content/new_folder/output"
      ],
      "metadata": {
        "colab": {
          "base_uri": "https://localhost:8080/"
        },
        "id": "ForRT1qYCX-h",
        "outputId": "0d9d319a-6998-47e5-8e9b-a5c385fb9812"
      },
      "execution_count": 23,
      "outputs": [
        {
          "output_type": "stream",
          "name": "stdout",
          "text": [
            "2025-01-04 11:19:02,561 INFO impl.MetricsConfig: Loaded properties from hadoop-metrics2.properties\n",
            "2025-01-04 11:19:02,735 INFO impl.MetricsSystemImpl: Scheduled Metric snapshot period at 10 second(s).\n",
            "2025-01-04 11:19:02,736 INFO impl.MetricsSystemImpl: JobTracker metrics system started\n",
            "2025-01-04 11:19:03,085 INFO input.FileInputFormat: Total input files to process : 1\n",
            "2025-01-04 11:19:03,143 INFO mapreduce.JobSubmitter: number of splits:1\n",
            "2025-01-04 11:19:03,510 INFO mapreduce.JobSubmitter: Submitting tokens for job: job_local884788319_0001\n",
            "2025-01-04 11:19:03,511 INFO mapreduce.JobSubmitter: Executing with tokens: []\n",
            "2025-01-04 11:19:03,755 INFO mapreduce.Job: The url to track the job: http://localhost:8080/\n",
            "2025-01-04 11:19:03,757 INFO mapreduce.Job: Running job: job_local884788319_0001\n",
            "2025-01-04 11:19:03,769 INFO mapred.LocalJobRunner: OutputCommitter set in config null\n",
            "2025-01-04 11:19:03,784 INFO output.PathOutputCommitterFactory: No output committer factory defined, defaulting to FileOutputCommitterFactory\n",
            "2025-01-04 11:19:03,787 INFO output.FileOutputCommitter: File Output Committer Algorithm version is 2\n",
            "2025-01-04 11:19:03,787 INFO output.FileOutputCommitter: FileOutputCommitter skip cleanup _temporary folders under output directory:false, ignore cleanup failures: false\n",
            "2025-01-04 11:19:03,788 INFO mapred.LocalJobRunner: OutputCommitter is org.apache.hadoop.mapreduce.lib.output.FileOutputCommitter\n",
            "2025-01-04 11:19:03,864 INFO mapred.LocalJobRunner: Waiting for map tasks\n",
            "2025-01-04 11:19:03,865 INFO mapred.LocalJobRunner: Starting task: attempt_local884788319_0001_m_000000_0\n",
            "2025-01-04 11:19:03,916 INFO output.PathOutputCommitterFactory: No output committer factory defined, defaulting to FileOutputCommitterFactory\n",
            "2025-01-04 11:19:03,916 INFO output.FileOutputCommitter: File Output Committer Algorithm version is 2\n",
            "2025-01-04 11:19:03,916 INFO output.FileOutputCommitter: FileOutputCommitter skip cleanup _temporary folders under output directory:false, ignore cleanup failures: false\n",
            "2025-01-04 11:19:03,959 INFO mapred.Task:  Using ResourceCalculatorProcessTree : [ ]\n",
            "2025-01-04 11:19:03,968 INFO mapred.MapTask: Processing split: file:/content/new_folder/input.txt:0+121\n",
            "2025-01-04 11:19:04,184 INFO mapred.MapTask: (EQUATOR) 0 kvi 26214396(104857584)\n",
            "2025-01-04 11:19:04,184 INFO mapred.MapTask: mapreduce.task.io.sort.mb: 100\n",
            "2025-01-04 11:19:04,184 INFO mapred.MapTask: soft limit at 83886080\n",
            "2025-01-04 11:19:04,185 INFO mapred.MapTask: bufstart = 0; bufvoid = 104857600\n",
            "2025-01-04 11:19:04,185 INFO mapred.MapTask: kvstart = 26214396; length = 6553600\n",
            "2025-01-04 11:19:04,194 INFO mapred.MapTask: Map output collector class = org.apache.hadoop.mapred.MapTask$MapOutputBuffer\n",
            "2025-01-04 11:19:04,218 INFO mapred.LocalJobRunner: \n",
            "2025-01-04 11:19:04,220 INFO mapred.MapTask: Starting flush of map output\n",
            "2025-01-04 11:19:04,220 INFO mapred.MapTask: Spilling map output\n",
            "2025-01-04 11:19:04,220 INFO mapred.MapTask: bufstart = 0; bufend = 198; bufvoid = 104857600\n",
            "2025-01-04 11:19:04,220 INFO mapred.MapTask: kvstart = 26214396(104857584); kvend = 26214324(104857296); length = 73/6553600\n",
            "2025-01-04 11:19:04,245 INFO mapred.MapTask: Finished spill 0\n",
            "2025-01-04 11:19:04,267 INFO mapred.Task: Task:attempt_local884788319_0001_m_000000_0 is done. And is in the process of committing\n",
            "2025-01-04 11:19:04,272 INFO mapred.LocalJobRunner: map\n",
            "2025-01-04 11:19:04,272 INFO mapred.Task: Task 'attempt_local884788319_0001_m_000000_0' done.\n",
            "2025-01-04 11:19:04,297 INFO mapred.Task: Final Counters for attempt_local884788319_0001_m_000000_0: Counters: 18\n",
            "\tFile System Counters\n",
            "\t\tFILE: Number of bytes read=281622\n",
            "\t\tFILE: Number of bytes written=916817\n",
            "\t\tFILE: Number of read operations=0\n",
            "\t\tFILE: Number of large read operations=0\n",
            "\t\tFILE: Number of write operations=0\n",
            "\tMap-Reduce Framework\n",
            "\t\tMap input records=1\n",
            "\t\tMap output records=19\n",
            "\t\tMap output bytes=198\n",
            "\t\tMap output materialized bytes=217\n",
            "\t\tInput split bytes=99\n",
            "\t\tCombine input records=19\n",
            "\t\tCombine output records=17\n",
            "\t\tSpilled Records=17\n",
            "\t\tFailed Shuffles=0\n",
            "\t\tMerged Map outputs=0\n",
            "\t\tGC time elapsed (ms)=0\n",
            "\t\tTotal committed heap usage (bytes)=258473984\n",
            "\tFile Input Format Counters \n",
            "\t\tBytes Read=121\n",
            "2025-01-04 11:19:04,297 INFO mapred.LocalJobRunner: Finishing task: attempt_local884788319_0001_m_000000_0\n",
            "2025-01-04 11:19:04,298 INFO mapred.LocalJobRunner: map task executor complete.\n",
            "2025-01-04 11:19:04,303 INFO mapred.LocalJobRunner: Waiting for reduce tasks\n",
            "2025-01-04 11:19:04,303 INFO mapred.LocalJobRunner: Starting task: attempt_local884788319_0001_r_000000_0\n",
            "2025-01-04 11:19:04,320 INFO output.PathOutputCommitterFactory: No output committer factory defined, defaulting to FileOutputCommitterFactory\n",
            "2025-01-04 11:19:04,320 INFO output.FileOutputCommitter: File Output Committer Algorithm version is 2\n",
            "2025-01-04 11:19:04,320 INFO output.FileOutputCommitter: FileOutputCommitter skip cleanup _temporary folders under output directory:false, ignore cleanup failures: false\n",
            "2025-01-04 11:19:04,321 INFO mapred.Task:  Using ResourceCalculatorProcessTree : [ ]\n",
            "2025-01-04 11:19:04,328 INFO mapred.ReduceTask: Using ShuffleConsumerPlugin: org.apache.hadoop.mapreduce.task.reduce.Shuffle@1c588983\n",
            "2025-01-04 11:19:04,332 WARN impl.MetricsSystemImpl: JobTracker metrics system already initialized!\n",
            "2025-01-04 11:19:04,401 INFO reduce.MergeManagerImpl: MergerManager: memoryLimit=2117966208, maxSingleShuffleLimit=529491552, mergeThreshold=1397857792, ioSortFactor=10, memToMemMergeOutputsThreshold=10\n",
            "2025-01-04 11:19:04,409 INFO reduce.EventFetcher: attempt_local884788319_0001_r_000000_0 Thread started: EventFetcher for fetching Map Completion Events\n",
            "2025-01-04 11:19:04,451 INFO reduce.LocalFetcher: localfetcher#1 about to shuffle output of map attempt_local884788319_0001_m_000000_0 decomp: 213 len: 217 to MEMORY\n",
            "2025-01-04 11:19:04,458 INFO reduce.InMemoryMapOutput: Read 213 bytes from map-output for attempt_local884788319_0001_m_000000_0\n",
            "2025-01-04 11:19:04,461 INFO reduce.MergeManagerImpl: closeInMemoryFile -> map-output of size: 213, inMemoryMapOutputs.size() -> 1, commitMemory -> 0, usedMemory ->213\n",
            "2025-01-04 11:19:04,465 INFO reduce.EventFetcher: EventFetcher is interrupted.. Returning\n",
            "2025-01-04 11:19:04,466 INFO mapred.LocalJobRunner: 1 / 1 copied.\n",
            "2025-01-04 11:19:04,466 INFO reduce.MergeManagerImpl: finalMerge called with 1 in-memory map-outputs and 0 on-disk map-outputs\n",
            "2025-01-04 11:19:04,475 INFO mapred.Merger: Merging 1 sorted segments\n",
            "2025-01-04 11:19:04,475 INFO mapred.Merger: Down to the last merge-pass, with 1 segments left of total size: 204 bytes\n",
            "2025-01-04 11:19:04,480 INFO reduce.MergeManagerImpl: Merged 1 segments, 213 bytes to disk to satisfy reduce memory limit\n",
            "2025-01-04 11:19:04,481 INFO reduce.MergeManagerImpl: Merging 1 files, 217 bytes from disk\n",
            "2025-01-04 11:19:04,482 INFO reduce.MergeManagerImpl: Merging 0 segments, 0 bytes from memory into reduce\n",
            "2025-01-04 11:19:04,483 INFO mapred.Merger: Merging 1 sorted segments\n",
            "2025-01-04 11:19:04,484 INFO mapred.Merger: Down to the last merge-pass, with 1 segments left of total size: 204 bytes\n",
            "2025-01-04 11:19:04,484 INFO mapred.LocalJobRunner: 1 / 1 copied.\n",
            "2025-01-04 11:19:04,489 INFO Configuration.deprecation: mapred.skip.on is deprecated. Instead, use mapreduce.job.skiprecords\n",
            "2025-01-04 11:19:04,493 INFO mapred.Task: Task:attempt_local884788319_0001_r_000000_0 is done. And is in the process of committing\n",
            "2025-01-04 11:19:04,494 INFO mapred.LocalJobRunner: 1 / 1 copied.\n",
            "2025-01-04 11:19:04,494 INFO mapred.Task: Task attempt_local884788319_0001_r_000000_0 is allowed to commit now\n",
            "2025-01-04 11:19:04,496 INFO output.FileOutputCommitter: Saved output of task 'attempt_local884788319_0001_r_000000_0' to file:/content/new_folder/output\n",
            "2025-01-04 11:19:04,497 INFO mapred.LocalJobRunner: reduce > reduce\n",
            "2025-01-04 11:19:04,497 INFO mapred.Task: Task 'attempt_local884788319_0001_r_000000_0' done.\n",
            "2025-01-04 11:19:04,497 INFO mapred.Task: Final Counters for attempt_local884788319_0001_r_000000_0: Counters: 24\n",
            "\tFile System Counters\n",
            "\t\tFILE: Number of bytes read=282088\n",
            "\t\tFILE: Number of bytes written=917189\n",
            "\t\tFILE: Number of read operations=0\n",
            "\t\tFILE: Number of large read operations=0\n",
            "\t\tFILE: Number of write operations=0\n",
            "\tMap-Reduce Framework\n",
            "\t\tCombine input records=0\n",
            "\t\tCombine output records=0\n",
            "\t\tReduce input groups=17\n",
            "\t\tReduce shuffle bytes=217\n",
            "\t\tReduce input records=17\n",
            "\t\tReduce output records=17\n",
            "\t\tSpilled Records=17\n",
            "\t\tShuffled Maps =1\n",
            "\t\tFailed Shuffles=0\n",
            "\t\tMerged Map outputs=1\n",
            "\t\tGC time elapsed (ms)=29\n",
            "\t\tTotal committed heap usage (bytes)=258473984\n",
            "\tShuffle Errors\n",
            "\t\tBAD_ID=0\n",
            "\t\tCONNECTION=0\n",
            "\t\tIO_ERROR=0\n",
            "\t\tWRONG_LENGTH=0\n",
            "\t\tWRONG_MAP=0\n",
            "\t\tWRONG_REDUCE=0\n",
            "\tFile Output Format Counters \n",
            "\t\tBytes Written=155\n",
            "2025-01-04 11:19:04,498 INFO mapred.LocalJobRunner: Finishing task: attempt_local884788319_0001_r_000000_0\n",
            "2025-01-04 11:19:04,498 INFO mapred.LocalJobRunner: reduce task executor complete.\n",
            "2025-01-04 11:19:04,769 INFO mapreduce.Job: Job job_local884788319_0001 running in uber mode : false\n",
            "2025-01-04 11:19:04,770 INFO mapreduce.Job:  map 100% reduce 100%\n",
            "2025-01-04 11:19:04,771 INFO mapreduce.Job: Job job_local884788319_0001 completed successfully\n",
            "2025-01-04 11:19:04,782 INFO mapreduce.Job: Counters: 30\n",
            "\tFile System Counters\n",
            "\t\tFILE: Number of bytes read=563710\n",
            "\t\tFILE: Number of bytes written=1834006\n",
            "\t\tFILE: Number of read operations=0\n",
            "\t\tFILE: Number of large read operations=0\n",
            "\t\tFILE: Number of write operations=0\n",
            "\tMap-Reduce Framework\n",
            "\t\tMap input records=1\n",
            "\t\tMap output records=19\n",
            "\t\tMap output bytes=198\n",
            "\t\tMap output materialized bytes=217\n",
            "\t\tInput split bytes=99\n",
            "\t\tCombine input records=19\n",
            "\t\tCombine output records=17\n",
            "\t\tReduce input groups=17\n",
            "\t\tReduce shuffle bytes=217\n",
            "\t\tReduce input records=17\n",
            "\t\tReduce output records=17\n",
            "\t\tSpilled Records=34\n",
            "\t\tShuffled Maps =1\n",
            "\t\tFailed Shuffles=0\n",
            "\t\tMerged Map outputs=1\n",
            "\t\tGC time elapsed (ms)=29\n",
            "\t\tTotal committed heap usage (bytes)=516947968\n",
            "\tShuffle Errors\n",
            "\t\tBAD_ID=0\n",
            "\t\tCONNECTION=0\n",
            "\t\tIO_ERROR=0\n",
            "\t\tWRONG_LENGTH=0\n",
            "\t\tWRONG_MAP=0\n",
            "\t\tWRONG_REDUCE=0\n",
            "\tFile Input Format Counters \n",
            "\t\tBytes Read=121\n",
            "\tFile Output Format Counters \n",
            "\t\tBytes Written=155\n"
          ]
        }
      ]
    },
    {
      "cell_type": "code",
      "source": [
        "#displaying the result of MapReduce WordCount Program\n",
        "!hdfs dfs -cat /content/new_folder/output/part-r-00000"
      ],
      "metadata": {
        "colab": {
          "base_uri": "https://localhost:8080/"
        },
        "id": "Kflgzl1sCjWh",
        "outputId": "b24eb90d-cab6-4aff-b5ac-01f2f54570cf"
      },
      "execution_count": 24,
      "outputs": [
        {
          "output_type": "stream",
          "name": "stdout",
          "text": [
            "Hadoop\t1\n",
            "HadoopHadoop\t1\n",
            "Hello\t1\n",
            "MapReduce\t2\n",
            "a\t1\n",
            "be\t1\n",
            "big\t1\n",
            "can\t1\n",
            "data\t1\n",
            "dataBig\t1\n",
            "for\t1\n",
            "great\t1\n",
            "is\t2\n",
            "model\t1\n",
            "processed\t1\n",
            "programming\t1\n",
            "using\t1\n"
          ]
        }
      ]
    },
    {
      "cell_type": "markdown",
      "source": [
        "**So here we have seen excution of MapReduce using Existing jar Files**"
      ],
      "metadata": {
        "id": "qGVyymj7DoGK"
      }
    },
    {
      "cell_type": "markdown",
      "source": [
        "# Working On New dataset using own Scripting Of map Reduce"
      ],
      "metadata": {
        "id": "Ugr8X9AeD5CJ"
      }
    },
    {
      "cell_type": "markdown",
      "source": [
        "**Case Study 2: Titanic Dataset - Survival Analysis**\n",
        "**Dataset Source:**\n",
        "Titanic Dataset\n",
        "\n",
        "**Task:**\n",
        "Count the number of survivors and non-survivors.\n",
        "\n",
        "**Steps:**\n",
        "Prepare the Data: Download and upload\n",
        "\n",
        "\n",
        "\n",
        "1. the train.csv file to /content/newfolder.\n",
        "\n",
        "2. Write the MRJob Script: Save this as survival_analysis.py."
      ],
      "metadata": {
        "id": "D2QfxsgFEE2w"
      }
    },
    {
      "cell_type": "markdown",
      "source": [
        "### downloading the dataset"
      ],
      "metadata": {
        "id": "4RtlsqamFxcu"
      }
    },
    {
      "cell_type": "code",
      "source": [
        "\n",
        "\n",
        "!wget https://raw.githubusercontent.com/datasciencedojo/datasets/master/titanic.csv -O /content/new_folder/train.csv\n"
      ],
      "metadata": {
        "colab": {
          "base_uri": "https://localhost:8080/"
        },
        "id": "i3qJ3XDSE3a2",
        "outputId": "21b59e1b-34da-458b-88a3-b6ce4507fb05"
      },
      "execution_count": 26,
      "outputs": [
        {
          "output_type": "stream",
          "name": "stdout",
          "text": [
            "--2025-01-04 11:29:36--  https://raw.githubusercontent.com/datasciencedojo/datasets/master/titanic.csv\n",
            "Resolving raw.githubusercontent.com (raw.githubusercontent.com)... 185.199.108.133, 185.199.109.133, 185.199.110.133, ...\n",
            "Connecting to raw.githubusercontent.com (raw.githubusercontent.com)|185.199.108.133|:443... connected.\n",
            "HTTP request sent, awaiting response... 200 OK\n",
            "Length: 60302 (59K) [text/plain]\n",
            "Saving to: ‘/content/new_folder/train.csv’\n",
            "\n",
            "\r          /content/   0%[                    ]       0  --.-KB/s               \r/content/new_folder 100%[===================>]  58.89K  --.-KB/s    in 0.004s  \n",
            "\n",
            "2025-01-04 11:29:36 (12.9 MB/s) - ‘/content/new_folder/train.csv’ saved [60302/60302]\n",
            "\n"
          ]
        }
      ]
    },
    {
      "cell_type": "markdown",
      "source": [
        "### viewing the dataset"
      ],
      "metadata": {
        "id": "K7KcYppXF1of"
      }
    },
    {
      "cell_type": "code",
      "source": [
        "import numpy as np\n",
        "import pandas as pd\n",
        "import matplotlib.pyplot as plt\n",
        "import seaborn as sns\n",
        "\n",
        "\n",
        "df= pd.read_csv('/content/new_folder/train.csv')\n",
        "df.head()"
      ],
      "metadata": {
        "colab": {
          "base_uri": "https://localhost:8080/",
          "height": 310
        },
        "id": "kME1Q65dFOGe",
        "outputId": "b9e889ee-8525-4834-b565-ba266f8efbed"
      },
      "execution_count": 27,
      "outputs": [
        {
          "output_type": "execute_result",
          "data": {
            "text/plain": [
              "   PassengerId  Survived  Pclass  \\\n",
              "0            1         0       3   \n",
              "1            2         1       1   \n",
              "2            3         1       3   \n",
              "3            4         1       1   \n",
              "4            5         0       3   \n",
              "\n",
              "                                                Name     Sex   Age  SibSp  \\\n",
              "0                            Braund, Mr. Owen Harris    male  22.0      1   \n",
              "1  Cumings, Mrs. John Bradley (Florence Briggs Th...  female  38.0      1   \n",
              "2                             Heikkinen, Miss. Laina  female  26.0      0   \n",
              "3       Futrelle, Mrs. Jacques Heath (Lily May Peel)  female  35.0      1   \n",
              "4                           Allen, Mr. William Henry    male  35.0      0   \n",
              "\n",
              "   Parch            Ticket     Fare Cabin Embarked  \n",
              "0      0         A/5 21171   7.2500   NaN        S  \n",
              "1      0          PC 17599  71.2833   C85        C  \n",
              "2      0  STON/O2. 3101282   7.9250   NaN        S  \n",
              "3      0            113803  53.1000  C123        S  \n",
              "4      0            373450   8.0500   NaN        S  "
            ],
            "text/html": [
              "\n",
              "  <div id=\"df-ca103354-0628-48b0-838b-3e18ae7ea37c\" class=\"colab-df-container\">\n",
              "    <div>\n",
              "<style scoped>\n",
              "    .dataframe tbody tr th:only-of-type {\n",
              "        vertical-align: middle;\n",
              "    }\n",
              "\n",
              "    .dataframe tbody tr th {\n",
              "        vertical-align: top;\n",
              "    }\n",
              "\n",
              "    .dataframe thead th {\n",
              "        text-align: right;\n",
              "    }\n",
              "</style>\n",
              "<table border=\"1\" class=\"dataframe\">\n",
              "  <thead>\n",
              "    <tr style=\"text-align: right;\">\n",
              "      <th></th>\n",
              "      <th>PassengerId</th>\n",
              "      <th>Survived</th>\n",
              "      <th>Pclass</th>\n",
              "      <th>Name</th>\n",
              "      <th>Sex</th>\n",
              "      <th>Age</th>\n",
              "      <th>SibSp</th>\n",
              "      <th>Parch</th>\n",
              "      <th>Ticket</th>\n",
              "      <th>Fare</th>\n",
              "      <th>Cabin</th>\n",
              "      <th>Embarked</th>\n",
              "    </tr>\n",
              "  </thead>\n",
              "  <tbody>\n",
              "    <tr>\n",
              "      <th>0</th>\n",
              "      <td>1</td>\n",
              "      <td>0</td>\n",
              "      <td>3</td>\n",
              "      <td>Braund, Mr. Owen Harris</td>\n",
              "      <td>male</td>\n",
              "      <td>22.0</td>\n",
              "      <td>1</td>\n",
              "      <td>0</td>\n",
              "      <td>A/5 21171</td>\n",
              "      <td>7.2500</td>\n",
              "      <td>NaN</td>\n",
              "      <td>S</td>\n",
              "    </tr>\n",
              "    <tr>\n",
              "      <th>1</th>\n",
              "      <td>2</td>\n",
              "      <td>1</td>\n",
              "      <td>1</td>\n",
              "      <td>Cumings, Mrs. John Bradley (Florence Briggs Th...</td>\n",
              "      <td>female</td>\n",
              "      <td>38.0</td>\n",
              "      <td>1</td>\n",
              "      <td>0</td>\n",
              "      <td>PC 17599</td>\n",
              "      <td>71.2833</td>\n",
              "      <td>C85</td>\n",
              "      <td>C</td>\n",
              "    </tr>\n",
              "    <tr>\n",
              "      <th>2</th>\n",
              "      <td>3</td>\n",
              "      <td>1</td>\n",
              "      <td>3</td>\n",
              "      <td>Heikkinen, Miss. Laina</td>\n",
              "      <td>female</td>\n",
              "      <td>26.0</td>\n",
              "      <td>0</td>\n",
              "      <td>0</td>\n",
              "      <td>STON/O2. 3101282</td>\n",
              "      <td>7.9250</td>\n",
              "      <td>NaN</td>\n",
              "      <td>S</td>\n",
              "    </tr>\n",
              "    <tr>\n",
              "      <th>3</th>\n",
              "      <td>4</td>\n",
              "      <td>1</td>\n",
              "      <td>1</td>\n",
              "      <td>Futrelle, Mrs. Jacques Heath (Lily May Peel)</td>\n",
              "      <td>female</td>\n",
              "      <td>35.0</td>\n",
              "      <td>1</td>\n",
              "      <td>0</td>\n",
              "      <td>113803</td>\n",
              "      <td>53.1000</td>\n",
              "      <td>C123</td>\n",
              "      <td>S</td>\n",
              "    </tr>\n",
              "    <tr>\n",
              "      <th>4</th>\n",
              "      <td>5</td>\n",
              "      <td>0</td>\n",
              "      <td>3</td>\n",
              "      <td>Allen, Mr. William Henry</td>\n",
              "      <td>male</td>\n",
              "      <td>35.0</td>\n",
              "      <td>0</td>\n",
              "      <td>0</td>\n",
              "      <td>373450</td>\n",
              "      <td>8.0500</td>\n",
              "      <td>NaN</td>\n",
              "      <td>S</td>\n",
              "    </tr>\n",
              "  </tbody>\n",
              "</table>\n",
              "</div>\n",
              "    <div class=\"colab-df-buttons\">\n",
              "\n",
              "  <div class=\"colab-df-container\">\n",
              "    <button class=\"colab-df-convert\" onclick=\"convertToInteractive('df-ca103354-0628-48b0-838b-3e18ae7ea37c')\"\n",
              "            title=\"Convert this dataframe to an interactive table.\"\n",
              "            style=\"display:none;\">\n",
              "\n",
              "  <svg xmlns=\"http://www.w3.org/2000/svg\" height=\"24px\" viewBox=\"0 -960 960 960\">\n",
              "    <path d=\"M120-120v-720h720v720H120Zm60-500h600v-160H180v160Zm220 220h160v-160H400v160Zm0 220h160v-160H400v160ZM180-400h160v-160H180v160Zm440 0h160v-160H620v160ZM180-180h160v-160H180v160Zm440 0h160v-160H620v160Z\"/>\n",
              "  </svg>\n",
              "    </button>\n",
              "\n",
              "  <style>\n",
              "    .colab-df-container {\n",
              "      display:flex;\n",
              "      gap: 12px;\n",
              "    }\n",
              "\n",
              "    .colab-df-convert {\n",
              "      background-color: #E8F0FE;\n",
              "      border: none;\n",
              "      border-radius: 50%;\n",
              "      cursor: pointer;\n",
              "      display: none;\n",
              "      fill: #1967D2;\n",
              "      height: 32px;\n",
              "      padding: 0 0 0 0;\n",
              "      width: 32px;\n",
              "    }\n",
              "\n",
              "    .colab-df-convert:hover {\n",
              "      background-color: #E2EBFA;\n",
              "      box-shadow: 0px 1px 2px rgba(60, 64, 67, 0.3), 0px 1px 3px 1px rgba(60, 64, 67, 0.15);\n",
              "      fill: #174EA6;\n",
              "    }\n",
              "\n",
              "    .colab-df-buttons div {\n",
              "      margin-bottom: 4px;\n",
              "    }\n",
              "\n",
              "    [theme=dark] .colab-df-convert {\n",
              "      background-color: #3B4455;\n",
              "      fill: #D2E3FC;\n",
              "    }\n",
              "\n",
              "    [theme=dark] .colab-df-convert:hover {\n",
              "      background-color: #434B5C;\n",
              "      box-shadow: 0px 1px 3px 1px rgba(0, 0, 0, 0.15);\n",
              "      filter: drop-shadow(0px 1px 2px rgba(0, 0, 0, 0.3));\n",
              "      fill: #FFFFFF;\n",
              "    }\n",
              "  </style>\n",
              "\n",
              "    <script>\n",
              "      const buttonEl =\n",
              "        document.querySelector('#df-ca103354-0628-48b0-838b-3e18ae7ea37c button.colab-df-convert');\n",
              "      buttonEl.style.display =\n",
              "        google.colab.kernel.accessAllowed ? 'block' : 'none';\n",
              "\n",
              "      async function convertToInteractive(key) {\n",
              "        const element = document.querySelector('#df-ca103354-0628-48b0-838b-3e18ae7ea37c');\n",
              "        const dataTable =\n",
              "          await google.colab.kernel.invokeFunction('convertToInteractive',\n",
              "                                                    [key], {});\n",
              "        if (!dataTable) return;\n",
              "\n",
              "        const docLinkHtml = 'Like what you see? Visit the ' +\n",
              "          '<a target=\"_blank\" href=https://colab.research.google.com/notebooks/data_table.ipynb>data table notebook</a>'\n",
              "          + ' to learn more about interactive tables.';\n",
              "        element.innerHTML = '';\n",
              "        dataTable['output_type'] = 'display_data';\n",
              "        await google.colab.output.renderOutput(dataTable, element);\n",
              "        const docLink = document.createElement('div');\n",
              "        docLink.innerHTML = docLinkHtml;\n",
              "        element.appendChild(docLink);\n",
              "      }\n",
              "    </script>\n",
              "  </div>\n",
              "\n",
              "\n",
              "<div id=\"df-64362bd7-2581-48a0-997c-7eb9fc3bf671\">\n",
              "  <button class=\"colab-df-quickchart\" onclick=\"quickchart('df-64362bd7-2581-48a0-997c-7eb9fc3bf671')\"\n",
              "            title=\"Suggest charts\"\n",
              "            style=\"display:none;\">\n",
              "\n",
              "<svg xmlns=\"http://www.w3.org/2000/svg\" height=\"24px\"viewBox=\"0 0 24 24\"\n",
              "     width=\"24px\">\n",
              "    <g>\n",
              "        <path d=\"M19 3H5c-1.1 0-2 .9-2 2v14c0 1.1.9 2 2 2h14c1.1 0 2-.9 2-2V5c0-1.1-.9-2-2-2zM9 17H7v-7h2v7zm4 0h-2V7h2v10zm4 0h-2v-4h2v4z\"/>\n",
              "    </g>\n",
              "</svg>\n",
              "  </button>\n",
              "\n",
              "<style>\n",
              "  .colab-df-quickchart {\n",
              "      --bg-color: #E8F0FE;\n",
              "      --fill-color: #1967D2;\n",
              "      --hover-bg-color: #E2EBFA;\n",
              "      --hover-fill-color: #174EA6;\n",
              "      --disabled-fill-color: #AAA;\n",
              "      --disabled-bg-color: #DDD;\n",
              "  }\n",
              "\n",
              "  [theme=dark] .colab-df-quickchart {\n",
              "      --bg-color: #3B4455;\n",
              "      --fill-color: #D2E3FC;\n",
              "      --hover-bg-color: #434B5C;\n",
              "      --hover-fill-color: #FFFFFF;\n",
              "      --disabled-bg-color: #3B4455;\n",
              "      --disabled-fill-color: #666;\n",
              "  }\n",
              "\n",
              "  .colab-df-quickchart {\n",
              "    background-color: var(--bg-color);\n",
              "    border: none;\n",
              "    border-radius: 50%;\n",
              "    cursor: pointer;\n",
              "    display: none;\n",
              "    fill: var(--fill-color);\n",
              "    height: 32px;\n",
              "    padding: 0;\n",
              "    width: 32px;\n",
              "  }\n",
              "\n",
              "  .colab-df-quickchart:hover {\n",
              "    background-color: var(--hover-bg-color);\n",
              "    box-shadow: 0 1px 2px rgba(60, 64, 67, 0.3), 0 1px 3px 1px rgba(60, 64, 67, 0.15);\n",
              "    fill: var(--button-hover-fill-color);\n",
              "  }\n",
              "\n",
              "  .colab-df-quickchart-complete:disabled,\n",
              "  .colab-df-quickchart-complete:disabled:hover {\n",
              "    background-color: var(--disabled-bg-color);\n",
              "    fill: var(--disabled-fill-color);\n",
              "    box-shadow: none;\n",
              "  }\n",
              "\n",
              "  .colab-df-spinner {\n",
              "    border: 2px solid var(--fill-color);\n",
              "    border-color: transparent;\n",
              "    border-bottom-color: var(--fill-color);\n",
              "    animation:\n",
              "      spin 1s steps(1) infinite;\n",
              "  }\n",
              "\n",
              "  @keyframes spin {\n",
              "    0% {\n",
              "      border-color: transparent;\n",
              "      border-bottom-color: var(--fill-color);\n",
              "      border-left-color: var(--fill-color);\n",
              "    }\n",
              "    20% {\n",
              "      border-color: transparent;\n",
              "      border-left-color: var(--fill-color);\n",
              "      border-top-color: var(--fill-color);\n",
              "    }\n",
              "    30% {\n",
              "      border-color: transparent;\n",
              "      border-left-color: var(--fill-color);\n",
              "      border-top-color: var(--fill-color);\n",
              "      border-right-color: var(--fill-color);\n",
              "    }\n",
              "    40% {\n",
              "      border-color: transparent;\n",
              "      border-right-color: var(--fill-color);\n",
              "      border-top-color: var(--fill-color);\n",
              "    }\n",
              "    60% {\n",
              "      border-color: transparent;\n",
              "      border-right-color: var(--fill-color);\n",
              "    }\n",
              "    80% {\n",
              "      border-color: transparent;\n",
              "      border-right-color: var(--fill-color);\n",
              "      border-bottom-color: var(--fill-color);\n",
              "    }\n",
              "    90% {\n",
              "      border-color: transparent;\n",
              "      border-bottom-color: var(--fill-color);\n",
              "    }\n",
              "  }\n",
              "</style>\n",
              "\n",
              "  <script>\n",
              "    async function quickchart(key) {\n",
              "      const quickchartButtonEl =\n",
              "        document.querySelector('#' + key + ' button');\n",
              "      quickchartButtonEl.disabled = true;  // To prevent multiple clicks.\n",
              "      quickchartButtonEl.classList.add('colab-df-spinner');\n",
              "      try {\n",
              "        const charts = await google.colab.kernel.invokeFunction(\n",
              "            'suggestCharts', [key], {});\n",
              "      } catch (error) {\n",
              "        console.error('Error during call to suggestCharts:', error);\n",
              "      }\n",
              "      quickchartButtonEl.classList.remove('colab-df-spinner');\n",
              "      quickchartButtonEl.classList.add('colab-df-quickchart-complete');\n",
              "    }\n",
              "    (() => {\n",
              "      let quickchartButtonEl =\n",
              "        document.querySelector('#df-64362bd7-2581-48a0-997c-7eb9fc3bf671 button');\n",
              "      quickchartButtonEl.style.display =\n",
              "        google.colab.kernel.accessAllowed ? 'block' : 'none';\n",
              "    })();\n",
              "  </script>\n",
              "</div>\n",
              "\n",
              "    </div>\n",
              "  </div>\n"
            ],
            "application/vnd.google.colaboratory.intrinsic+json": {
              "type": "dataframe",
              "variable_name": "df",
              "summary": "{\n  \"name\": \"df\",\n  \"rows\": 891,\n  \"fields\": [\n    {\n      \"column\": \"PassengerId\",\n      \"properties\": {\n        \"dtype\": \"number\",\n        \"std\": 257,\n        \"min\": 1,\n        \"max\": 891,\n        \"num_unique_values\": 891,\n        \"samples\": [\n          710,\n          440,\n          841\n        ],\n        \"semantic_type\": \"\",\n        \"description\": \"\"\n      }\n    },\n    {\n      \"column\": \"Survived\",\n      \"properties\": {\n        \"dtype\": \"number\",\n        \"std\": 0,\n        \"min\": 0,\n        \"max\": 1,\n        \"num_unique_values\": 2,\n        \"samples\": [\n          1,\n          0\n        ],\n        \"semantic_type\": \"\",\n        \"description\": \"\"\n      }\n    },\n    {\n      \"column\": \"Pclass\",\n      \"properties\": {\n        \"dtype\": \"number\",\n        \"std\": 0,\n        \"min\": 1,\n        \"max\": 3,\n        \"num_unique_values\": 3,\n        \"samples\": [\n          3,\n          1\n        ],\n        \"semantic_type\": \"\",\n        \"description\": \"\"\n      }\n    },\n    {\n      \"column\": \"Name\",\n      \"properties\": {\n        \"dtype\": \"string\",\n        \"num_unique_values\": 891,\n        \"samples\": [\n          \"Moubarek, Master. Halim Gonios (\\\"William George\\\")\",\n          \"Kvillner, Mr. Johan Henrik Johannesson\"\n        ],\n        \"semantic_type\": \"\",\n        \"description\": \"\"\n      }\n    },\n    {\n      \"column\": \"Sex\",\n      \"properties\": {\n        \"dtype\": \"category\",\n        \"num_unique_values\": 2,\n        \"samples\": [\n          \"female\",\n          \"male\"\n        ],\n        \"semantic_type\": \"\",\n        \"description\": \"\"\n      }\n    },\n    {\n      \"column\": \"Age\",\n      \"properties\": {\n        \"dtype\": \"number\",\n        \"std\": 14.526497332334044,\n        \"min\": 0.42,\n        \"max\": 80.0,\n        \"num_unique_values\": 88,\n        \"samples\": [\n          0.75,\n          22.0\n        ],\n        \"semantic_type\": \"\",\n        \"description\": \"\"\n      }\n    },\n    {\n      \"column\": \"SibSp\",\n      \"properties\": {\n        \"dtype\": \"number\",\n        \"std\": 1,\n        \"min\": 0,\n        \"max\": 8,\n        \"num_unique_values\": 7,\n        \"samples\": [\n          1,\n          0\n        ],\n        \"semantic_type\": \"\",\n        \"description\": \"\"\n      }\n    },\n    {\n      \"column\": \"Parch\",\n      \"properties\": {\n        \"dtype\": \"number\",\n        \"std\": 0,\n        \"min\": 0,\n        \"max\": 6,\n        \"num_unique_values\": 7,\n        \"samples\": [\n          0,\n          1\n        ],\n        \"semantic_type\": \"\",\n        \"description\": \"\"\n      }\n    },\n    {\n      \"column\": \"Ticket\",\n      \"properties\": {\n        \"dtype\": \"string\",\n        \"num_unique_values\": 681,\n        \"samples\": [\n          \"11774\",\n          \"248740\"\n        ],\n        \"semantic_type\": \"\",\n        \"description\": \"\"\n      }\n    },\n    {\n      \"column\": \"Fare\",\n      \"properties\": {\n        \"dtype\": \"number\",\n        \"std\": 49.693428597180905,\n        \"min\": 0.0,\n        \"max\": 512.3292,\n        \"num_unique_values\": 248,\n        \"samples\": [\n          11.2417,\n          51.8625\n        ],\n        \"semantic_type\": \"\",\n        \"description\": \"\"\n      }\n    },\n    {\n      \"column\": \"Cabin\",\n      \"properties\": {\n        \"dtype\": \"category\",\n        \"num_unique_values\": 147,\n        \"samples\": [\n          \"D45\",\n          \"B49\"\n        ],\n        \"semantic_type\": \"\",\n        \"description\": \"\"\n      }\n    },\n    {\n      \"column\": \"Embarked\",\n      \"properties\": {\n        \"dtype\": \"category\",\n        \"num_unique_values\": 3,\n        \"samples\": [\n          \"S\",\n          \"C\"\n        ],\n        \"semantic_type\": \"\",\n        \"description\": \"\"\n      }\n    }\n  ]\n}"
            }
          },
          "metadata": {},
          "execution_count": 27
        }
      ]
    },
    {
      "cell_type": "markdown",
      "source": [
        "### writing the script to count the passenger"
      ],
      "metadata": {
        "id": "JU_rwCWFF5Dt"
      }
    },
    {
      "cell_type": "code",
      "source": [
        "%%writefile survival_analysis.py\n",
        "from mrjob.job import MRJob\n",
        "\n",
        "class SurvivalAnalysis(MRJob):\n",
        "\n",
        "    def mapper(self, _, line):\n",
        "        fields = line.split(',')\n",
        "        if fields[0] != \"PassengerId\":  # Skip the header\n",
        "            survived = fields[1]\n",
        "            yield survived, 1\n",
        "\n",
        "    def reducer(self, survived, counts):\n",
        "        yield survived, sum(counts)\n",
        "\n",
        "if __name__ == \"__main__\":\n",
        "    SurvivalAnalysis.run()\n"
      ],
      "metadata": {
        "colab": {
          "base_uri": "https://localhost:8080/"
        },
        "id": "Nl-LMVpmCnYx",
        "outputId": "0e98534a-c79c-4c06-bca0-8dca744b9d95"
      },
      "execution_count": 25,
      "outputs": [
        {
          "output_type": "stream",
          "name": "stdout",
          "text": [
            "Writing survival_analysis.py\n"
          ]
        }
      ]
    },
    {
      "cell_type": "markdown",
      "source": [
        "# Run the Script:"
      ],
      "metadata": {
        "id": "PUu0KznwFqVl"
      }
    },
    {
      "cell_type": "code",
      "source": [
        "!python3 survival_analysis.py /content/new_folder/train.csv > /content/new_folder/survival_analysis_output.txt\n"
      ],
      "metadata": {
        "colab": {
          "base_uri": "https://localhost:8080/"
        },
        "id": "aPwYGmk4EP-w",
        "outputId": "ec7ca2e5-3823-4068-ad57-749334beec87"
      },
      "execution_count": 28,
      "outputs": [
        {
          "output_type": "stream",
          "name": "stdout",
          "text": [
            "No configs found; falling back on auto-configuration\n",
            "No configs specified for inline runner\n",
            "Creating temp directory /tmp/survival_analysis.root.20250104.113137.228419\n",
            "Running step 1 of 1...\n",
            "job output is in /tmp/survival_analysis.root.20250104.113137.228419/output\n",
            "Streaming final output from /tmp/survival_analysis.root.20250104.113137.228419/output...\n",
            "Removing temp directory /tmp/survival_analysis.root.20250104.113137.228419...\n"
          ]
        }
      ]
    },
    {
      "cell_type": "markdown",
      "source": [
        "#View the Results:"
      ],
      "metadata": {
        "id": "dV2GJqzXFn8f"
      }
    },
    {
      "cell_type": "code",
      "source": [
        "!cat /content/new_folder/survival_analysis_output.txt\n"
      ],
      "metadata": {
        "colab": {
          "base_uri": "https://localhost:8080/"
        },
        "id": "83mylMf5Feuu",
        "outputId": "11d092b3-4df9-4009-e64d-ab0c914663be"
      },
      "execution_count": 30,
      "outputs": [
        {
          "output_type": "stream",
          "name": "stdout",
          "text": [
            "\"0\"\t549\n",
            "\"1\"\t342\n"
          ]
        }
      ]
    },
    {
      "cell_type": "markdown",
      "source": [
        "here we have found that 342 paasenger survived where as 549 not"
      ],
      "metadata": {
        "id": "DezcpLiQGA9E"
      }
    },
    {
      "cell_type": "code",
      "source": [
        "!jps"
      ],
      "metadata": {
        "colab": {
          "base_uri": "https://localhost:8080/"
        },
        "id": "dikXiQE3S3oP",
        "outputId": "04aec820-9e3e-434c-8ff1-75273f4e7865"
      },
      "execution_count": 32,
      "outputs": [
        {
          "output_type": "stream",
          "name": "stdout",
          "text": [
            "48618 Jps\n"
          ]
        }
      ]
    },
    {
      "cell_type": "code",
      "source": [
        "# prompt: update the below survival analysis .py code to  count total no of passenger  and no of passeneger male and female who died using the dataset  using mrjob\n",
        "%%writefile TitanicSurvivalAnalysis.py\n",
        "from mrjob.job import MRJob\n",
        "from mrjob.step import MRStep\n",
        "\n",
        "class TitanicSurvivalAnalysis(MRJob):\n",
        "    def steps(self):\n",
        "        return [\n",
        "            MRStep(mapper=self.mapper_get_survival_info,\n",
        "                   reducer=self.reducer_count_survival)\n",
        "        ]\n",
        "\n",
        "    def mapper_get_survival_info(self, _, line):\n",
        "        try:\n",
        "            passenger_id, survived, pclass, name, sex, age, sibsp, parch, ticket, fare, cabin, embarked = line.split(',')\n",
        "            if passenger_id == 'PassengerId':  # Skip header row\n",
        "                return\n",
        "            yield survived, (sex, 1) #Yield survived status with sex and a count\n",
        "        except ValueError:\n",
        "            pass #Handle lines that don't have the expected format\n",
        "\n",
        "\n",
        "    def reducer_count_survival(self, survived, passenger_info):\n",
        "        total_survivors = 0\n",
        "        male_deaths = 0\n",
        "        female_deaths = 0\n",
        "        total_passengers = 0\n",
        "        for sex, count in passenger_info:\n",
        "            total_passengers += count\n",
        "            if survived == '0':\n",
        "                if sex == 'male':\n",
        "                    male_deaths += count\n",
        "                elif sex == 'female':\n",
        "                    female_deaths += count\n",
        "        total_survivors = total_passengers # Initialize total survivors\n",
        "        if survived == '0':\n",
        "            total_survivors = 0 # reset if it's a death count\n",
        "        yield survived, (total_passengers, male_deaths, female_deaths)\n",
        "\n",
        "if __name__ == '__main__':\n",
        "    TitanicSurvivalAnalysis.run()"
      ],
      "metadata": {
        "colab": {
          "base_uri": "https://localhost:8080/"
        },
        "id": "2Y1XEawzFfTt",
        "outputId": "516a831a-b042-4cec-a999-9144a944dfe9"
      },
      "execution_count": 34,
      "outputs": [
        {
          "output_type": "stream",
          "name": "stdout",
          "text": [
            "Writing TitanicSurvivalAnalysis.py\n"
          ]
        }
      ]
    },
    {
      "cell_type": "code",
      "source": [
        "!python3 survival_analysis.py /content/new_folder/train.csv > /content/new_folder/survival_analysis_output.txt"
      ],
      "metadata": {
        "colab": {
          "base_uri": "https://localhost:8080/"
        },
        "id": "zX5KCCJfS58b",
        "outputId": "b4020eb7-8d3c-4b67-8717-9a0588b57b26"
      },
      "execution_count": 35,
      "outputs": [
        {
          "output_type": "stream",
          "name": "stdout",
          "text": [
            "No configs found; falling back on auto-configuration\n",
            "No configs specified for inline runner\n",
            "Creating temp directory /tmp/survival_analysis.root.20250104.123216.311927\n",
            "Running step 1 of 1...\n",
            "job output is in /tmp/survival_analysis.root.20250104.123216.311927/output\n",
            "Streaming final output from /tmp/survival_analysis.root.20250104.123216.311927/output...\n",
            "Removing temp directory /tmp/survival_analysis.root.20250104.123216.311927...\n"
          ]
        }
      ]
    },
    {
      "cell_type": "code",
      "source": [
        "!cat /content/new_folder/survival_analysis_output.txt"
      ],
      "metadata": {
        "colab": {
          "base_uri": "https://localhost:8080/"
        },
        "id": "R4mN2OZzTUd5",
        "outputId": "af67e0f0-454d-48f7-db13-79e5ccf13e24"
      },
      "execution_count": 36,
      "outputs": [
        {
          "output_type": "stream",
          "name": "stdout",
          "text": [
            "\"0\"\t549\n",
            "\"1\"\t342\n"
          ]
        }
      ]
    },
    {
      "cell_type": "code",
      "source": [],
      "metadata": {
        "id": "d3nb7YkATYEJ"
      },
      "execution_count": null,
      "outputs": []
    }
  ],
  "metadata": {
    "colab": {
      "name": "Welcome To Colab",
      "provenance": [],
      "include_colab_link": true
    },
    "kernelspec": {
      "display_name": "Python 3",
      "name": "python3"
    }
  },
  "nbformat": 4,
  "nbformat_minor": 0
}