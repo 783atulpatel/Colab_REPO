{
  "cells": [
    {
      "cell_type": "markdown",
      "metadata": {
        "id": "view-in-github",
        "colab_type": "text"
      },
      "source": [
        "<a href=\"https://colab.research.google.com/github/783atulpatel/Colab_REPO/blob/main/CaseStudy1-MovieLense.ipynb\" target=\"_parent\"><img src=\"https://colab.research.google.com/assets/colab-badge.svg\" alt=\"Open In Colab\"/></a>"
      ]
    },
    {
      "cell_type": "markdown",
      "source": [
        "\n",
        "\n",
        "\n",
        "### Case Study : MovieLens 100K - Most Popular Movies\n",
        "**Dataset Source:**\n",
        "MovieLens 100K Dataset\n",
        "\n",
        "**Task:**\n",
        "Identify the top 10 most popular movies based on the number of ratings.\n",
        "\n",
        "\n"
      ],
      "metadata": {
        "id": "F32Fv9QJ_a7F"
      }
    },
    {
      "cell_type": "markdown",
      "source": [
        "# Install Java Development Kit (JDK"
      ],
      "metadata": {
        "id": "v5wPDlyX_n51"
      }
    },
    {
      "cell_type": "code",
      "source": [
        "\n",
        "!apt-get install openjdk-8-jdk-headless -qq > /dev/null"
      ],
      "metadata": {
        "id": "U2SzBBWm1VdL"
      },
      "execution_count": 2,
      "outputs": []
    },
    {
      "cell_type": "markdown",
      "source": [
        "# setup Hadoop as told in previous class"
      ],
      "metadata": {
        "id": "Wphs8Ttl_rpm"
      }
    },
    {
      "cell_type": "code",
      "source": [
        "!tar -xzf /content/drive/MyDrive/hadoop-setup/hadoop-3.3.6.tar.gz -C /content/"
      ],
      "metadata": {
        "id": "RhHaAeN411UD"
      },
      "execution_count": 4,
      "outputs": []
    },
    {
      "cell_type": "markdown",
      "source": [
        "# setting up environment"
      ],
      "metadata": {
        "id": "CvUAcWoB_xUO"
      }
    },
    {
      "cell_type": "code",
      "source": [
        "# Set Hadoop environment variables\n",
        "import os\n",
        "os.environ[\"JAVA_HOME\"] = \"/usr/lib/jvm/java-8-openjdk-amd64\"\n",
        "os.environ[\"HADOOP_HOME\"] = \"/content/hadoop-3.3.6\"\n",
        "os.environ[\"PATH\"] = os.environ[\"PATH\"] + \":\" + os.environ[\"HADOOP_HOME\"] + \"/bin\" + \":\" + os.environ[\"HADOOP_HOME\"] + \"/sbin\"\n",
        "\n",
        "# Configure Hadoop (replace with your desired configuration)\n",
        "!echo \"export JAVA_HOME=/usr/lib/jvm/java-8-openjdk-amd64\" >> ~/.bashrc\n",
        "!echo \"export HADOOP_HOME=/content/hadoop-3.3.6\" >> ~/.bashrc\n",
        "!echo \"export PATH=$PATH:$HADOOP_HOME/bin:$HADOOP_HOME/sbin\" >> ~/.bashrc\n",
        "\n",
        "# Source the bashrc file to apply the changes\n",
        "!source ~/.bashrc\n",
        "\n",
        "# Verify Hadoop installation\n",
        "!hadoop version"
      ],
      "metadata": {
        "colab": {
          "base_uri": "https://localhost:8080/"
        },
        "id": "vYLsx4m81YsD",
        "outputId": "b3de63fa-c459-4a27-c6e5-71bf09949167"
      },
      "execution_count": 5,
      "outputs": [
        {
          "output_type": "stream",
          "name": "stdout",
          "text": [
            "Hadoop 3.3.6\n",
            "Source code repository https://github.com/apache/hadoop.git -r 1be78238728da9266a4f88195058f08fd012bf9c\n",
            "Compiled by ubuntu on 2023-06-18T08:22Z\n",
            "Compiled on platform linux-x86_64\n",
            "Compiled with protoc 3.7.1\n",
            "From source with checksum 5652179ad55f76cb287d9c633bb53bbd\n",
            "This command was run using /content/hadoop-3.3.6/share/hadoop/common/hadoop-common-3.3.6.jar\n"
          ]
        }
      ]
    },
    {
      "cell_type": "markdown",
      "source": [
        "# verfying the working of haddop"
      ],
      "metadata": {
        "id": "p_6-4q99_0Zm"
      }
    },
    {
      "cell_type": "code",
      "source": [
        "!jps"
      ],
      "metadata": {
        "colab": {
          "base_uri": "https://localhost:8080/"
        },
        "id": "rKAjIu7K1ye6",
        "outputId": "e491cecf-4410-4d2d-b888-0c0633340650"
      },
      "execution_count": 6,
      "outputs": [
        {
          "output_type": "stream",
          "name": "stdout",
          "text": [
            "8597 Jps\n"
          ]
        }
      ]
    },
    {
      "cell_type": "code",
      "source": [
        "# Create a directory in HDFS\n",
        "!hdfs dfs -mkdir /content/new_folder"
      ],
      "metadata": {
        "id": "hhYJqcxmtRmt"
      },
      "execution_count": 7,
      "outputs": []
    },
    {
      "cell_type": "markdown",
      "source": [
        "# Getting a movieslens dataset to anlyze with Hadoop\n",
        "\n",
        "I use a dataset from grouplens. You can get other in:\n",
        "http://files.grouplens.org/datasets/\n",
        "\n",
        "\n",
        "\n"
      ],
      "metadata": {
        "id": "EsNqzYautdKd"
      }
    },
    {
      "cell_type": "code",
      "source": [
        "!wget http://files.grouplens.org/datasets/movielens/ml-100k.zip"
      ],
      "metadata": {
        "colab": {
          "base_uri": "https://localhost:8080/"
        },
        "id": "9gk-ARJjtVu8",
        "outputId": "92d7db32-a578-4102-9148-c3a9089e3bbf"
      },
      "execution_count": 9,
      "outputs": [
        {
          "output_type": "stream",
          "name": "stdout",
          "text": [
            "--2025-01-04 09:47:42--  http://files.grouplens.org/datasets/movielens/ml-100k.zip\n",
            "Resolving files.grouplens.org (files.grouplens.org)... 128.101.65.152\n",
            "Connecting to files.grouplens.org (files.grouplens.org)|128.101.65.152|:80... connected.\n",
            "HTTP request sent, awaiting response... 200 OK\n",
            "Length: 4924029 (4.7M) [application/zip]\n",
            "Saving to: ‘ml-100k.zip’\n",
            "\n",
            "ml-100k.zip         100%[===================>]   4.70M  5.56MB/s    in 0.8s    \n",
            "\n",
            "2025-01-04 09:47:43 (5.56 MB/s) - ‘ml-100k.zip’ saved [4924029/4924029]\n",
            "\n"
          ]
        }
      ]
    },
    {
      "cell_type": "markdown",
      "source": [
        "### To use data extract files. I extract files in path later of -d in command:"
      ],
      "metadata": {
        "id": "dfyheD67t2Sm"
      }
    },
    {
      "cell_type": "code",
      "source": [
        "!unzip \"/content/ml-100k.zip\" -d \"/content/new_folder\""
      ],
      "metadata": {
        "colab": {
          "base_uri": "https://localhost:8080/"
        },
        "id": "k_8NjMwqthj8",
        "outputId": "301ceb96-7c6c-40b1-f6c3-7734fcc9a979"
      },
      "execution_count": 10,
      "outputs": [
        {
          "output_type": "stream",
          "name": "stdout",
          "text": [
            "Archive:  /content/ml-100k.zip\n",
            "   creating: /content/new_folder/ml-100k/\n",
            "  inflating: /content/new_folder/ml-100k/allbut.pl  \n",
            "  inflating: /content/new_folder/ml-100k/mku.sh  \n",
            "  inflating: /content/new_folder/ml-100k/README  \n",
            "  inflating: /content/new_folder/ml-100k/u.data  \n",
            "  inflating: /content/new_folder/ml-100k/u.genre  \n",
            "  inflating: /content/new_folder/ml-100k/u.info  \n",
            "  inflating: /content/new_folder/ml-100k/u.item  \n",
            "  inflating: /content/new_folder/ml-100k/u.occupation  \n",
            "  inflating: /content/new_folder/ml-100k/u.user  \n",
            "  inflating: /content/new_folder/ml-100k/u1.base  \n",
            "  inflating: /content/new_folder/ml-100k/u1.test  \n",
            "  inflating: /content/new_folder/ml-100k/u2.base  \n",
            "  inflating: /content/new_folder/ml-100k/u2.test  \n",
            "  inflating: /content/new_folder/ml-100k/u3.base  \n",
            "  inflating: /content/new_folder/ml-100k/u3.test  \n",
            "  inflating: /content/new_folder/ml-100k/u4.base  \n",
            "  inflating: /content/new_folder/ml-100k/u4.test  \n",
            "  inflating: /content/new_folder/ml-100k/u5.base  \n",
            "  inflating: /content/new_folder/ml-100k/u5.test  \n",
            "  inflating: /content/new_folder/ml-100k/ua.base  \n",
            "  inflating: /content/new_folder/ml-100k/ua.test  \n",
            "  inflating: /content/new_folder/ml-100k/ub.base  \n",
            "  inflating: /content/new_folder/ml-100k/ub.test  \n"
          ]
        }
      ]
    },
    {
      "cell_type": "markdown",
      "source": [
        "# Installing dependencies to use Python\n",
        "\n",
        "We can install dependency to use MapReduce using:\n"
      ],
      "metadata": {
        "id": "Ov_VObyBuRDG"
      }
    },
    {
      "cell_type": "code",
      "source": [
        "!pip install mrjob"
      ],
      "metadata": {
        "colab": {
          "base_uri": "https://localhost:8080/"
        },
        "id": "DGl3HuNFuAmN",
        "outputId": "3701a675-3f2c-4568-ffa0-35716460bb08"
      },
      "execution_count": 11,
      "outputs": [
        {
          "output_type": "stream",
          "name": "stdout",
          "text": [
            "Collecting mrjob\n",
            "  Downloading mrjob-0.7.4-py2.py3-none-any.whl.metadata (7.3 kB)\n",
            "Requirement already satisfied: PyYAML>=3.10 in /usr/local/lib/python3.10/dist-packages (from mrjob) (6.0.2)\n",
            "Downloading mrjob-0.7.4-py2.py3-none-any.whl (439 kB)\n",
            "\u001b[?25l   \u001b[90m━━━━━━━━━━━━━━━━━━━━━━━━━━━━━━━━━━━━━━━━\u001b[0m \u001b[32m0.0/439.6 kB\u001b[0m \u001b[31m?\u001b[0m eta \u001b[36m-:--:--\u001b[0m\r\u001b[2K   \u001b[91m━━━━━━━━━━━━━━━━━━━━━━━━━━━━━━━━━━━━━━━\u001b[0m\u001b[90m╺\u001b[0m \u001b[32m430.1/439.6 kB\u001b[0m \u001b[31m19.6 MB/s\u001b[0m eta \u001b[36m0:00:01\u001b[0m\r\u001b[2K   \u001b[90m━━━━━━━━━━━━━━━━━━━━━━━━━━━━━━━━━━━━━━━━\u001b[0m \u001b[32m439.6/439.6 kB\u001b[0m \u001b[31m11.9 MB/s\u001b[0m eta \u001b[36m0:00:00\u001b[0m\n",
            "\u001b[?25hInstalling collected packages: mrjob\n",
            "Successfully installed mrjob-0.7.4\n"
          ]
        }
      ]
    },
    {
      "cell_type": "markdown",
      "source": [],
      "metadata": {
        "id": "3Rnm1AzwwKB7"
      }
    },
    {
      "cell_type": "markdown",
      "source": [
        "### Creating process to use with MRJOB using Python\"\n",
        "\n",
        "To create job in Python, you must see structure of dataset to configure jobs."
      ],
      "metadata": {
        "id": "5M56gMZsw20T"
      }
    },
    {
      "cell_type": "code",
      "source": [
        "!head /content/new_folder/ml-100k/u.data -n 10"
      ],
      "metadata": {
        "colab": {
          "base_uri": "https://localhost:8080/"
        },
        "id": "HfWjnWAew2fT",
        "outputId": "7767f576-decf-41bf-b1a2-ea5a66cac40e"
      },
      "execution_count": 15,
      "outputs": [
        {
          "output_type": "stream",
          "name": "stdout",
          "text": [
            "196\t242\t3\t881250949\n",
            "186\t302\t3\t891717742\n",
            "22\t377\t1\t878887116\n",
            "244\t51\t2\t880606923\n",
            "166\t346\t1\t886397596\n",
            "298\t474\t4\t884182806\n",
            "115\t265\t2\t881171488\n",
            "253\t465\t5\t891628467\n",
            "305\t451\t3\t886324817\n",
            "6\t86\t3\t883603013\n"
          ]
        }
      ]
    },
    {
      "cell_type": "markdown",
      "source": [
        "As we can observe\n",
        "\n",
        "- First column reference to userID.\n",
        "- Second column reference to movieID.\n",
        "- Third column reference to rating.\n",
        "- Fourth column reference to timestamp."
      ],
      "metadata": {
        "id": "jUvIYI9axVjC"
      }
    },
    {
      "cell_type": "code",
      "source": [
        "# import modules\n",
        "%%writefile ratingbreakdown.py\n",
        "from mrjob.job import MRJob\n",
        "from mrjob.step import MRStep\n",
        "\n",
        "class RatingBreakdown(MRJob):\n",
        "\n",
        "    def steps(self):\n",
        "        return [\n",
        "            MRStep(mapper=self.mapper_get_ratings,\n",
        "                   reducer=self.reducer_count_ratings)\n",
        "        ]\n",
        "\n",
        "    def mapper_get_ratings(self, _, line):\n",
        "        # Each line is of the format: user_id\\titem_id\\trating\\ttimestamp\n",
        "        fields = line.split('\\t')\n",
        "        if len(fields) == 4:\n",
        "            rating = fields[2]\n",
        "            yield rating, 1\n",
        "\n",
        "    def reducer_count_ratings(self, rating, counts):\n",
        "        yield rating, sum(counts)\n",
        "\n",
        "if __name__ == \"__main__\":\n",
        "    RatingBreakdown.run()\n"
      ],
      "metadata": {
        "colab": {
          "base_uri": "https://localhost:8080/"
        },
        "id": "Ol_JTKOCwwgZ",
        "outputId": "94daf7bf-266c-48fd-8015-6ee6d62f35be"
      },
      "execution_count": 18,
      "outputs": [
        {
          "output_type": "stream",
          "name": "stdout",
          "text": [
            "Writing ratingbreakdown.py\n"
          ]
        }
      ]
    },
    {
      "cell_type": "markdown",
      "source": [
        "### 12th - Running the process\n",
        "\n",
        "Here we run the process specifing some parameters:\n",
        "- Python file program  'RatingBreakdown.\n",
        "\n",
        " run process,\n"
      ],
      "metadata": {
        "id": "E8CCBpYHz-yt"
      }
    },
    {
      "cell_type": "code",
      "source": [
        "!python3 ratingbreakdown.py   /content/new_folder/ml-100k/u.data  > /content/new_folder/rating_breakdown_output.txt\n"
      ],
      "metadata": {
        "colab": {
          "base_uri": "https://localhost:8080/"
        },
        "id": "rfehIhZJzz41",
        "outputId": "db760850-4aee-4679-e1fe-56318b390bb7"
      },
      "execution_count": 20,
      "outputs": [
        {
          "output_type": "stream",
          "name": "stdout",
          "text": [
            "No configs found; falling back on auto-configuration\n",
            "No configs specified for inline runner\n",
            "Creating temp directory /tmp/ratingbreakdown.root.20250104.110315.090921\n",
            "Running step 1 of 1...\n",
            "job output is in /tmp/ratingbreakdown.root.20250104.110315.090921/output\n",
            "Streaming final output from /tmp/ratingbreakdown.root.20250104.110315.090921/output...\n",
            "Removing temp directory /tmp/ratingbreakdown.root.20250104.110315.090921...\n"
          ]
        }
      ]
    },
    {
      "cell_type": "markdown",
      "source": [
        "# Viewing the Output\n"
      ],
      "metadata": {
        "id": "3YHnzpJ_AcgU"
      }
    },
    {
      "cell_type": "code",
      "source": [
        "!cat /content/new_folder/rating_breakdown_output.txt"
      ],
      "metadata": {
        "colab": {
          "base_uri": "https://localhost:8080/"
        },
        "id": "chD85eSK-2b1",
        "outputId": "fcb59f3c-9ba2-45de-d2a7-37aa929596c5"
      },
      "execution_count": 21,
      "outputs": [
        {
          "output_type": "stream",
          "name": "stdout",
          "text": [
            "\"5\"\t21201\n",
            "\"1\"\t6110\n",
            "\"2\"\t11370\n",
            "\"3\"\t27145\n",
            "\"4\"\t34174\n"
          ]
        }
      ]
    },
    {
      "cell_type": "markdown",
      "source": [
        "This will display the breakdown of ratings from the MovieLens dataset."
      ],
      "metadata": {
        "id": "WYs42aaZAfvk"
      }
    },
    {
      "cell_type": "code",
      "source": [],
      "metadata": {
        "id": "owqSVNF7_FND"
      },
      "execution_count": null,
      "outputs": []
    }
  ],
  "metadata": {
    "colab": {
      "name": "Welcome To Colab",
      "provenance": [],
      "include_colab_link": true
    },
    "kernelspec": {
      "display_name": "Python 3",
      "name": "python3"
    }
  },
  "nbformat": 4,
  "nbformat_minor": 0
}